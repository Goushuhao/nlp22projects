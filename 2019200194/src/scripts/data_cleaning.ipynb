{
 "cells": [
  {
   "cell_type": "code",
   "execution_count": 1,
   "metadata": {},
   "outputs": [
    {
     "name": "stderr",
     "output_type": "stream",
     "text": [
      "Building prefix dict from the default dictionary ...\n",
      "Loading model from cache C:\\Users\\26519\\AppData\\Local\\Temp\\jieba.cache\n",
      "Loading model cost 0.374 seconds.\n",
      "Prefix dict has been built successfully.\n"
     ]
    }
   ],
   "source": [
    "import pandas as pd\n",
    "import os\n",
    "import re\n",
    "import jieba\n",
    "import numpy as np\n",
    "jieba.load_userdict('user_dict.txt')\n",
    "import collections\n",
    "\n",
    "from snownlp import SnowNLP\n",
    "import random"
   ]
  },
  {
   "cell_type": "code",
   "execution_count": 2,
   "metadata": {},
   "outputs": [],
   "source": [
    "data = pd.DataFrame(pd.read_pickle('matched_2017.pkl')).T\n",
    "data = data.reset_index()\n",
    "\n",
    "data['date'] = data['time'].apply(lambda x:int(x[:10].replace('-','')))\n",
    "data['stock'] = data['stock'].astype(int)\n",
    "data['like count'] = data['like count'].astype(int)"
   ]
  },
  {
   "cell_type": "code",
   "execution_count": 3,
   "metadata": {},
   "outputs": [],
   "source": [
    "def clean(s):\n",
    "    # 替换emoji 为标准格式  [XX]\n",
    "    p = '<img src=\"http://gbfek.dfcfw.com/face/emot[^>]+?title=\"(?P<emoj>[^\"]+?)\"/>'\n",
    "    s = re.sub(p,lambda x:'礐'+x.group('emoj'),s)\n",
    "\n",
    "    \n",
    "    p = r'<[^<]+?>'  # 去除标签\n",
    "    s = re.sub(p,'',s)\n",
    "\n",
    "    s = s.replace('\\n','').replace('\\r','') # 去除换行符\n",
    "\n",
    "    p = r'[http|https]*://[a-zA-Z0-9.?/&=:_-]*'\n",
    "    s = re.sub(p,'',s)\n",
    "    return s.strip()\n",
    "\n",
    "def clean_title(s):\n",
    "    # 去除 股票信息\n",
    "    p = '_[^<]*'\n",
    "    s = re.sub(p,'',s)\n",
    "\n",
    "    p = r'<[^<]+?>'  # 去除标签\n",
    "    s = re.sub(p,'',s)\n",
    "\n",
    "    p = '\\[(?P<emoj>[^\\]]+?)\\]'\n",
    "    s = re.sub(p,lambda x:'礐'+x.group('emoj'),s)\n",
    "    return s.strip()\n",
    "    "
   ]
  },
  {
   "cell_type": "code",
   "execution_count": 4,
   "metadata": {},
   "outputs": [
    {
     "data": {
      "text/plain": [
       "[('大笑', 16234),\n",
       " ('鼓掌', 8109),\n",
       " ('胜利', 6478),\n",
       " ('哭', 4905),\n",
       " ('献花', 4573),\n",
       " ('微笑', 4035),\n",
       " ('不赞', 3761),\n",
       " ('赞', 3669),\n",
       " ('拜神', 3589),\n",
       " ('牛', 2937),\n",
       " ('不屑', 2549),\n",
       " ('大便', 2293),\n",
       " ('滴汗', 2135),\n",
       " ('想一下', 2040),\n",
       " ('傲', 1734),\n",
       " ('亏大了', 1548),\n",
       " ('加油', 1459),\n",
       " ('买入', 1441),\n",
       " ('为什么', 1401),\n",
       " ('俏皮', 1136)]"
      ]
     },
     "execution_count": 4,
     "metadata": {},
     "output_type": "execute_result"
    }
   ],
   "source": [
    "# emoji stats\n",
    "emojis = data['title'].apply(lambda x:''.join(re.findall(r'\\[[^\\]]+?\\]',x))).sum()\n",
    "emoji_dict = dict(collections.Counter(emojis[1:-1].split('][')))\n",
    "emoji_dict = sorted(emoji_dict.items(),key=lambda x:x[1],reverse=True)\n",
    "emoji_dict[:20]"
   ]
  },
  {
   "cell_type": "code",
   "execution_count": 5,
   "metadata": {},
   "outputs": [],
   "source": [
    "with open('user_dict.txt','w',encoding='utf8') as f:\n",
    "    for w,q in [('礐'+x[0],x[1]) for x in emoji_dict if x[1] > 10]:\n",
    "        f.write(w+' '+str(q*100)+'\\n')"
   ]
  },
  {
   "cell_type": "code",
   "execution_count": 6,
   "metadata": {},
   "outputs": [],
   "source": [
    "data['title'] = data['title'].apply(clean_title)\n",
    "data['contents'] = data['contents'].apply(clean)"
   ]
  },
  {
   "cell_type": "code",
   "execution_count": 7,
   "metadata": {},
   "outputs": [
    {
     "data": {
      "text/plain": [
       "'平安银行为什么这么叼，有大神给小弟解答一下吗礐微笑'"
      ]
     },
     "execution_count": 7,
     "metadata": {},
     "output_type": "execute_result"
    }
   ],
   "source": [
    "data.loc[0,'contents']"
   ]
  },
  {
   "cell_type": "code",
   "execution_count": 8,
   "metadata": {},
   "outputs": [
    {
     "data": {
      "text/plain": [
       "['平安',\n",
       " '银行',\n",
       " '为什么',\n",
       " '这么',\n",
       " '叼',\n",
       " '，',\n",
       " '有',\n",
       " '大神',\n",
       " '给',\n",
       " '小弟',\n",
       " '解答',\n",
       " '一下',\n",
       " '吗',\n",
       " '礐微笑']"
      ]
     },
     "execution_count": 8,
     "metadata": {},
     "output_type": "execute_result"
    }
   ],
   "source": [
    "jieba.lcut(data.loc[0,'contents'])"
   ]
  },
  {
   "cell_type": "code",
   "execution_count": 11,
   "metadata": {},
   "outputs": [],
   "source": [
    "def get_sentiment(x):\n",
    "    try:\n",
    "        s = SnowNLP(x).sentiments\n",
    "        return s\n",
    "    except:\n",
    "        return np.NAN\n",
    "\n",
    "data['sentiment'] = data['contents'].apply(get_sentiment)"
   ]
  },
  {
   "cell_type": "code",
   "execution_count": 12,
   "metadata": {},
   "outputs": [
    {
     "name": "stdout",
     "output_type": "stream",
     "text": [
      "0.8789840911955085\n"
     ]
    },
    {
     "data": {
      "text/plain": [
       "'朝不保夕，人命危浅！大势已去！逢高抛之，以待来日。保住本金，留得青山。古人云：识时务者为俊杰！礐想一下礐想一下礐爱心'"
      ]
     },
     "execution_count": 12,
     "metadata": {},
     "output_type": "execute_result"
    }
   ],
   "source": [
    "idx = 6\n",
    "print(SnowNLP(data.loc[idx,'contents']).sentiments)\n",
    "data.loc[idx,'contents']"
   ]
  },
  {
   "attachments": {},
   "cell_type": "markdown",
   "metadata": {},
   "source": [
    "### 迭代方式打标签"
   ]
  },
  {
   "cell_type": "code",
   "execution_count": 36,
   "metadata": {},
   "outputs": [],
   "source": [
    "from snownlp import sentiment\n",
    "def retrain(path=r'D:\\python38\\Lib\\site-packages\\snownlp\\sentiment\\tp.marshal'):\n",
    "    sentiment.train(r'D:\\python38\\Lib\\site-packages\\snownlp\\sentiment\\neg.txt',r'D:\\python38\\Lib\\site-packages\\snownlp\\sentiment\\pos.txt')\n",
    "    sentiment.save(r'D:\\python38\\Lib\\site-packages\\snownlp\\sentiment\\tp.marshal')\n",
    "    sentiment.load(r'D:\\python38\\Lib\\site-packages\\snownlp\\sentiment\\tp.marshal')\n",
    "\n",
    "\n",
    "def add_pos(df):\n",
    "    global sample\n",
    "    with open(r'D:\\python38\\Lib\\site-packages\\snownlp\\sentiment\\pos.txt','a',encoding='utf8') as f:\n",
    "        f.write((df['contents']+'\\n').sum())\n",
    "    tp = df[['contents']].copy()\n",
    "    tp['flag'] = 1\n",
    "    sample = pd.concat([sample,tp])\n",
    "\n",
    "def add_neg(df):\n",
    "    global sample\n",
    "    with open(r'D:\\python38\\Lib\\site-packages\\snownlp\\sentiment\\neg.txt','a',encoding='utf8') as f:\n",
    "        f.write((df['contents']+'\\n').sum())\n",
    "    tp = df[['contents']].copy()\n",
    "    tp['flag'] = -1\n",
    "    sample = pd.concat([sample,tp])\n",
    "\n",
    "\n",
    "# 迭代词表\n",
    "def update_model(data):\n",
    "    data['sentiment'] = data['contents'].apply(get_sentiment)\n",
    "    goodnews = data[(data['sentiment']>0.9) & (data['like count']>6) & (data['sentiment']<0.98)]\n",
    "    add_pos(goodnews)\n",
    "    \n",
    "    badnews = data[(data['sentiment']<0.1) & (data['like count']>5) & (data['sentiment']>0.001)]\n",
    "    add_neg(badnews)\n",
    "    \n",
    "    retrain()\n",
    "\n",
    "\n",
    "def reset():\n",
    "    # 重置 正负词表\n",
    "    with open(r'D:\\python38\\Lib\\site-packages\\snownlp\\sentiment\\neg.txt','w',encoding='utf8') as f:\n",
    "        with open(r'D:\\python38\\Lib\\site-packages\\snownlp\\sentiment\\neg - 副本.txt','r',encoding='utf8') as f1:\n",
    "            f.write(f1.read())\n",
    "        with open('badw.txt','r',encoding='utf8') as f1:\n",
    "            f.write(f1.read())\n",
    "\n",
    "    with open(r'D:\\python38\\Lib\\site-packages\\snownlp\\sentiment\\pos.txt','w',encoding='utf8') as f:\n",
    "        with open(r'D:\\python38\\Lib\\site-packages\\snownlp\\sentiment\\pos - 副本.txt','r',encoding='utf8') as f1:\n",
    "            f.write(f1.read())\n",
    "        with open('goodw.txt','r',encoding='utf8') as f1:\n",
    "            f.write(f1.read())\n",
    "\n",
    "\n",
    "    sentiment.train(r'D:\\python38\\Lib\\site-packages\\snownlp\\sentiment\\neg.txt',r'D:\\python38\\Lib\\site-packages\\snownlp\\sentiment\\pos.txt')\n",
    "    sentiment.save(r'D:\\python38\\Lib\\site-packages\\snownlp\\sentiment\\tp.marshal')\n",
    "    sentiment.load(r'D:\\python38\\Lib\\site-packages\\snownlp\\sentiment\\tp.marshal')"
   ]
  },
  {
   "cell_type": "code",
   "execution_count": 37,
   "metadata": {},
   "outputs": [],
   "source": [
    "# 引入股价信息来进行启动\n",
    "reset()\n",
    "sample = pd.DataFrame()\n",
    "\n",
    "\n",
    "ret = pd.read_csv('D:\\databank\\CSMAR\\TRD_Dalyr_merge.csv')\n",
    "ret = ret[(ret['date']>=20170000) & (ret['date']<=20180000)].copy()\n",
    "\n",
    "\n",
    "# 股票当日涨跌超5%的进入筛选\n",
    "goodnews = ret[(ret['Dretwd']>0.05)].copy()[['stkcd','date']]\n",
    "badnews = ret[(ret['Dretwd']<-0.05)].copy()[['stkcd','date']]\n",
    "goodnews.columns = ['stock','date']\n",
    "badnews.columns = ['stock','date']\n",
    "\n",
    "\n",
    "\n",
    "goodnews = pd.merge(data,goodnews,on=['stock','date'],how='inner')\n",
    "goodnews['sentiment'] = goodnews['contents'].apply(get_sentiment)\n",
    "tp = goodnews[(goodnews['sentiment']>0.6) & (goodnews['like count']>5) & (goodnews['sentiment']<0.8)].copy()  # 情感值较高且有一定点赞数的评论加入词表\n",
    "add_pos(tp)\n",
    "tp = goodnews[(goodnews['sentiment']>0.8) & (goodnews['like count']>8)].copy()           #情感值很高的且有一定点赞数的评论加入词表且提升其重要性\n",
    "add_pos(tp)\n",
    "\n",
    "\n",
    "\n",
    "badnews = pd.merge(data,badnews,on=['stock','date'],how='inner')\n",
    "badnews['sentiment'] = badnews['contents'].apply(get_sentiment)\n",
    "#badnews['like count'] = badnews['like count'].astype(int)\n",
    "\n",
    "\n",
    "tp = badnews[(badnews['sentiment']<0.1) & (badnews['like count']>3) & (badnews['sentiment']<0.1)].copy() #负面评论的默认评分更为不准确，且用户点赞较多，我们可以更严格的筛选\n",
    "add_neg(tp)\n",
    "tp = badnews[(badnews['sentiment']<0.4) & (badnews['like count']>1) & (badnews['sentiment']>0.1)].copy() #较温和负面评论也加入词表\n",
    "add_neg(tp)\n",
    "\n",
    "retrain()"
   ]
  },
  {
   "cell_type": "code",
   "execution_count": 38,
   "metadata": {},
   "outputs": [
    {
     "name": "stdout",
     "output_type": "stream",
     "text": [
      "[870, 1379]\n",
      "[1481, 2284]\n",
      "[2040, 3226]\n",
      "[2573, 3855]\n",
      "[3093, 4416]\n",
      "[3571, 5028]\n",
      "[4066, 5623]\n",
      "[4536, 6222]\n",
      "[5000, 6772]\n",
      "[5447, 7334]\n",
      "[5937, 7902]\n",
      "[6384, 8408]\n",
      "[6793, 8884]\n",
      "[7183, 9303]\n",
      "[7561, 9717]\n",
      "[7924, 10094]\n",
      "[8286, 10506]\n",
      "[8646, 10853]\n",
      "[8987, 11241]\n",
      "[9349, 11578]\n"
     ]
    }
   ],
   "source": [
    "pncount = {}\n",
    "for _ in range(20):\n",
    "    pncount[_] = sample.groupby(['flag']).size().tolist()\n",
    "    print(pncount[_])\n",
    "\n",
    "    update_model(data)"
   ]
  },
  {
   "cell_type": "code",
   "execution_count": 39,
   "metadata": {},
   "outputs": [],
   "source": [
    "sample.to_pickle('marked_sample.pkl')"
   ]
  },
  {
   "cell_type": "code",
   "execution_count": 1,
   "metadata": {},
   "outputs": [],
   "source": [
    "import pandas as pd\n",
    "\n",
    "sample = pd.read_pickle('marked_sample.pkl')\n",
    "sample = sample.drop_duplicates(subset=['contents'],keep='last')"
   ]
  },
  {
   "cell_type": "code",
   "execution_count": 7,
   "metadata": {},
   "outputs": [],
   "source": [
    "sample.to_pickle('tagged_sample.pkl')"
   ]
  },
  {
   "cell_type": "code",
   "execution_count": 40,
   "metadata": {},
   "outputs": [],
   "source": [
    "sample['sentiment'] = sample['contents'].apply(get_sentiment)"
   ]
  },
  {
   "cell_type": "code",
   "execution_count": 41,
   "metadata": {},
   "outputs": [
    {
     "data": {
      "text/html": [
       "<div>\n",
       "<style scoped>\n",
       "    .dataframe tbody tr th:only-of-type {\n",
       "        vertical-align: middle;\n",
       "    }\n",
       "\n",
       "    .dataframe tbody tr th {\n",
       "        vertical-align: top;\n",
       "    }\n",
       "\n",
       "    .dataframe thead th {\n",
       "        text-align: right;\n",
       "    }\n",
       "</style>\n",
       "<table border=\"1\" class=\"dataframe\">\n",
       "  <thead>\n",
       "    <tr style=\"text-align: right;\">\n",
       "      <th></th>\n",
       "      <th>contents</th>\n",
       "      <th>flag</th>\n",
       "      <th>sentiment</th>\n",
       "    </tr>\n",
       "  </thead>\n",
       "  <tbody>\n",
       "    <tr>\n",
       "      <th>60658</th>\n",
       "      <td>7.05可以买了！放心买，今天不会跌破7元！</td>\n",
       "      <td>-1</td>\n",
       "      <td>0.004893</td>\n",
       "    </tr>\n",
       "    <tr>\n",
       "      <th>61569</th>\n",
       "      <td>这一天涨一天跌的，小妖精我是折腾不起，走了</td>\n",
       "      <td>-1</td>\n",
       "      <td>0.001118</td>\n",
       "    </tr>\n",
       "    <tr>\n",
       "      <th>61658</th>\n",
       "      <td>谁知道葫芦里卖啥药呢。</td>\n",
       "      <td>-1</td>\n",
       "      <td>0.018765</td>\n",
       "    </tr>\n",
       "    <tr>\n",
       "      <th>65018</th>\n",
       "      <td>[大便][大便]</td>\n",
       "      <td>-1</td>\n",
       "      <td>0.005977</td>\n",
       "    </tr>\n",
       "    <tr>\n",
       "      <th>65854</th>\n",
       "      <td>因为微网教育频道推荐了，正常都有20－50%涨幅。立贴为证。</td>\n",
       "      <td>-1</td>\n",
       "      <td>0.001115</td>\n",
       "    </tr>\n",
       "    <tr>\n",
       "      <th>72468</th>\n",
       "      <td>京东方柔性屏(四)</td>\n",
       "      <td>-1</td>\n",
       "      <td>0.032923</td>\n",
       "    </tr>\n",
       "    <tr>\n",
       "      <th>72487</th>\n",
       "      <td>京东方柔性屏(五)</td>\n",
       "      <td>-1</td>\n",
       "      <td>0.053095</td>\n",
       "    </tr>\n",
       "    <tr>\n",
       "      <th>72592</th>\n",
       "      <td>京东方，下午如果还不放量上攻，坚决清仓！礐怒</td>\n",
       "      <td>-1</td>\n",
       "      <td>0.001795</td>\n",
       "    </tr>\n",
       "    <tr>\n",
       "      <th>74232</th>\n",
       "      <td>明天拦腰一斩？</td>\n",
       "      <td>-1</td>\n",
       "      <td>0.002003</td>\n",
       "    </tr>\n",
       "    <tr>\n",
       "      <th>75633</th>\n",
       "      <td>尾盘不跌5个点以上。将退出股市</td>\n",
       "      <td>-1</td>\n",
       "      <td>0.013696</td>\n",
       "    </tr>\n",
       "    <tr>\n",
       "      <th>78348</th>\n",
       "      <td>2018年5月18我再来捡便宜货！</td>\n",
       "      <td>-1</td>\n",
       "      <td>0.021231</td>\n",
       "    </tr>\n",
       "    <tr>\n",
       "      <th>85461</th>\n",
       "      <td>无赖居然花了几十个亿，还是生产传统能源汽车，埋头苦蛀！</td>\n",
       "      <td>-1</td>\n",
       "      <td>0.001989</td>\n",
       "    </tr>\n",
       "    <tr>\n",
       "      <th>86250</th>\n",
       "      <td>套现走人，一地鸡毛。</td>\n",
       "      <td>-1</td>\n",
       "      <td>0.002880</td>\n",
       "    </tr>\n",
       "    <tr>\n",
       "      <th>86899</th>\n",
       "      <td>靠 我持股几个月 刚割肉就这样 服了</td>\n",
       "      <td>-1</td>\n",
       "      <td>0.005968</td>\n",
       "    </tr>\n",
       "    <tr>\n",
       "      <th>87264</th>\n",
       "      <td>够了吗？惨不惨？礐哭</td>\n",
       "      <td>-1</td>\n",
       "      <td>0.004030</td>\n",
       "    </tr>\n",
       "    <tr>\n",
       "      <th>91153</th>\n",
       "      <td>个人愚见，绝对善意</td>\n",
       "      <td>-1</td>\n",
       "      <td>0.002236</td>\n",
       "    </tr>\n",
       "    <tr>\n",
       "      <th>91679</th>\n",
       "      <td>一旦停牌 开牌后直奔80</td>\n",
       "      <td>-1</td>\n",
       "      <td>0.001191</td>\n",
       "    </tr>\n",
       "    <tr>\n",
       "      <th>92315</th>\n",
       "      <td>这就是一个垃圾公司，其实所有的国企基本都是垃圾</td>\n",
       "      <td>-1</td>\n",
       "      <td>0.008617</td>\n",
       "    </tr>\n",
       "    <tr>\n",
       "      <th>93073</th>\n",
       "      <td>跌跌不休会不会？？</td>\n",
       "      <td>-1</td>\n",
       "      <td>0.013760</td>\n",
       "    </tr>\n",
       "    <tr>\n",
       "      <th>94118</th>\n",
       "      <td>现场直播康卫现况</td>\n",
       "      <td>-1</td>\n",
       "      <td>0.001058</td>\n",
       "    </tr>\n",
       "    <tr>\n",
       "      <th>95121</th>\n",
       "      <td>这次破所有前高</td>\n",
       "      <td>-1</td>\n",
       "      <td>0.082082</td>\n",
       "    </tr>\n",
       "    <tr>\n",
       "      <th>100727</th>\n",
       "      <td>国安今天不跌，提头来见</td>\n",
       "      <td>-1</td>\n",
       "      <td>0.004550</td>\n",
       "    </tr>\n",
       "    <tr>\n",
       "      <th>100868</th>\n",
       "      <td>操</td>\n",
       "      <td>-1</td>\n",
       "      <td>0.073171</td>\n",
       "    </tr>\n",
       "    <tr>\n",
       "      <th>101773</th>\n",
       "      <td>做庄托也不容易啊礐哭</td>\n",
       "      <td>-1</td>\n",
       "      <td>0.008695</td>\n",
       "    </tr>\n",
       "    <tr>\n",
       "      <th>103738</th>\n",
       "      <td>证监会已受理</td>\n",
       "      <td>-1</td>\n",
       "      <td>0.028760</td>\n",
       "    </tr>\n",
       "    <tr>\n",
       "      <th>104578</th>\n",
       "      <td>亏得不敢看帐户的举手！！！</td>\n",
       "      <td>-1</td>\n",
       "      <td>0.011774</td>\n",
       "    </tr>\n",
       "    <tr>\n",
       "      <th>105902</th>\n",
       "      <td>14块买的，我腻害不？：（</td>\n",
       "      <td>-1</td>\n",
       "      <td>0.007512</td>\n",
       "    </tr>\n",
       "    <tr>\n",
       "      <th>106123</th>\n",
       "      <td>对 大不了就是跌停！劳资就是不出，看你怎么耍</td>\n",
       "      <td>-1</td>\n",
       "      <td>0.001138</td>\n",
       "    </tr>\n",
       "    <tr>\n",
       "      <th>106697</th>\n",
       "      <td>明天礐大笑礐大笑礐兴奋</td>\n",
       "      <td>-1</td>\n",
       "      <td>0.050062</td>\n",
       "    </tr>\n",
       "    <tr>\n",
       "      <th>107850</th>\n",
       "      <td>今晚停牌一周，复盘两个跌停板</td>\n",
       "      <td>-1</td>\n",
       "      <td>0.041903</td>\n",
       "    </tr>\n",
       "  </tbody>\n",
       "</table>\n",
       "</div>"
      ],
      "text/plain": [
       "                              contents  flag  sentiment\n",
       "60658           7.05可以买了！放心买，今天不会跌破7元！    -1   0.004893\n",
       "61569            这一天涨一天跌的，小妖精我是折腾不起，走了    -1   0.001118\n",
       "61658                      谁知道葫芦里卖啥药呢。    -1   0.018765\n",
       "65018                         [大便][大便]    -1   0.005977\n",
       "65854   因为微网教育频道推荐了，正常都有20－50%涨幅。立贴为证。    -1   0.001115\n",
       "72468                        京东方柔性屏(四)    -1   0.032923\n",
       "72487                        京东方柔性屏(五)    -1   0.053095\n",
       "72592           京东方，下午如果还不放量上攻，坚决清仓！礐怒    -1   0.001795\n",
       "74232                          明天拦腰一斩？    -1   0.002003\n",
       "75633                  尾盘不跌5个点以上。将退出股市    -1   0.013696\n",
       "78348                2018年5月18我再来捡便宜货！    -1   0.021231\n",
       "85461      无赖居然花了几十个亿，还是生产传统能源汽车，埋头苦蛀！    -1   0.001989\n",
       "86250                       套现走人，一地鸡毛。    -1   0.002880\n",
       "86899               靠 我持股几个月 刚割肉就这样 服了    -1   0.005968\n",
       "87264                       够了吗？惨不惨？礐哭    -1   0.004030\n",
       "91153                        个人愚见，绝对善意    -1   0.002236\n",
       "91679                     一旦停牌 开牌后直奔80    -1   0.001191\n",
       "92315          这就是一个垃圾公司，其实所有的国企基本都是垃圾    -1   0.008617\n",
       "93073                        跌跌不休会不会？？    -1   0.013760\n",
       "94118                         现场直播康卫现况    -1   0.001058\n",
       "95121                          这次破所有前高    -1   0.082082\n",
       "100727                     国安今天不跌，提头来见    -1   0.004550\n",
       "100868                               操    -1   0.073171\n",
       "101773                      做庄托也不容易啊礐哭    -1   0.008695\n",
       "103738                          证监会已受理    -1   0.028760\n",
       "104578                   亏得不敢看帐户的举手！！！    -1   0.011774\n",
       "105902                   14块买的，我腻害不？：（    -1   0.007512\n",
       "106123          对 大不了就是跌停！劳资就是不出，看你怎么耍    -1   0.001138\n",
       "106697                     明天礐大笑礐大笑礐兴奋    -1   0.050062\n",
       "107850                  今晚停牌一周，复盘两个跌停板    -1   0.041903"
      ]
     },
     "execution_count": 41,
     "metadata": {},
     "output_type": "execute_result"
    }
   ],
   "source": [
    "idx = -300\n",
    "sample.drop_duplicates(keep='last').iloc[idx:idx+30]"
   ]
  },
  {
   "cell_type": "code",
   "execution_count": 43,
   "metadata": {},
   "outputs": [
    {
     "data": {
      "text/plain": [
       "0.9994957668448866"
      ]
     },
     "execution_count": 43,
     "metadata": {},
     "output_type": "execute_result"
    }
   ],
   "source": [
    "get_sentiment('人人挂一単，缔造泛微超级板王')"
   ]
  },
  {
   "cell_type": "code",
   "execution_count": null,
   "metadata": {},
   "outputs": [],
   "source": []
  }
 ],
 "metadata": {
  "kernelspec": {
   "display_name": "Python 3",
   "language": "python",
   "name": "python3"
  },
  "language_info": {
   "codemirror_mode": {
    "name": "ipython",
    "version": 3
   },
   "file_extension": ".py",
   "mimetype": "text/x-python",
   "name": "python",
   "nbconvert_exporter": "python",
   "pygments_lexer": "ipython3",
   "version": "3.8.9 (tags/v3.8.9:a743f81, Apr  6 2021, 14:02:34) [MSC v.1928 64 bit (AMD64)]"
  },
  "orig_nbformat": 4,
  "vscode": {
   "interpreter": {
    "hash": "1c442f56f513d946697b54b9a37b89914a7453601d4cdab64d33f95287da7f98"
   }
  }
 },
 "nbformat": 4,
 "nbformat_minor": 2
}
